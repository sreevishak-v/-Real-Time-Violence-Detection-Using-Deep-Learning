{
 "cells": [
  {
   "cell_type": "code",
   "execution_count": 15,
   "metadata": {},
   "outputs": [
    {
     "name": "stdout",
     "output_type": "stream",
     "text": [
      "Contents of 'frames': ['frames1', 'frames2nv']\n"
     ]
    }
   ],
   "source": [
    "\n",
    "import cv2\n",
    "import os\n",
    "\n",
    "# Path to the folder containing videos\n",
    "video_folder_violence = 'C:/Users/sreevishak/Desktop/DUK/mini/1/Real Life Violence Dataset/Violence'\n",
    "\n",
    "# Path to save the extracted frames\n",
    "output_folder_violence = 'C:/Users/sreevishak/Desktop/DUK/mini/frames1'\n",
    "\n",
    "# Create output folder if it doesn't exist\n",
    "if not os.path.exists(output_folder_violence):\n",
    "    os.makedirs(output_folder_violence)\n",
    "\n",
    "# Iterate through each video file in the video folder\n",
    "total_frames = 0  # Total frames extracted from all videos\n",
    "for video_file in os.listdir(video_folder_violence):\n",
    "    if video_file.endswith(('.mp4', '.avi', '.mov', '.mkv')):  # Add other formats if needed\n",
    "        video_path = os.path.join(video_folder_violence, video_file)\n",
    "        cap = cv2.VideoCapture(video_path)\n",
    "        \n",
    "        # Check if video is opened successfully\n",
    "        if not cap.isOpened():\n",
    "            print(f\"Error opening video file {video_file}\")\n",
    "            continue\n",
    "        \n",
    "        frame_count = 0\n",
    "        while True:\n",
    "            ret, frame = cap.read()\n",
    "            \n",
    "            if not ret:  # No more frames to read\n",
    "                break\n",
    "            \n",
    "            # Save the frame as an image\n",
    "            frame_filename = f\"{video_file}_frame_{frame_count}.jpg\"\n",
    "            frame_path = os.path.join(output_folder_violence, frame_filename)\n",
    "            cv2.imwrite(frame_path, frame)\n",
    "            \n",
    "            frame_count += 1\n",
    "        \n",
    "        cap.release()\n",
    "        print(f\"Frames extracted and saved for {video_file}. Total frames: {frame_count}\")\n",
    "        total_frames += frame_count  # Add to total frames extracted\n",
    "\n",
    "print(f\"Total number of frames extracted from all videos: {total_frames}\")\n"
   ]
  },
  {
   "cell_type": "code",
   "execution_count": 17,
   "metadata": {},
   "outputs": [
    {
     "name": "stdout",
     "output_type": "stream",
     "text": [
      "Contents of 'frames': ['frames1', 'frames2nv']\n"
     ]
    }
   ],
   "source": [
    "import os\n",
    "\n",
    "image_dir = r'C:/Users/sreevishak/Desktop/DUK/mini/datas/frames'\n",
    "\n",
    "# Print the contents of the frames directory\n",
    "print(\"Contents of 'frames':\", os.listdir(image_dir))\n"
   ]
  },
  {
   "cell_type": "code",
   "execution_count": 16,
   "metadata": {},
   "outputs": [
    {
     "name": "stdout",
     "output_type": "stream",
     "text": [
      "--------------------------------------\n",
      "\n",
      "The length of Non Violence images is 100473\n",
      "The length of Violence images is 117747\n",
      "--------------------------------------\n",
      "\n"
     ]
    }
   ],
   "source": [
    "import os\n",
    "\n",
    "# Corrected base directory\n",
    "image_dir = r'C:/Users/sreevishak/Desktop/DUK/mini//datas/frames'\n",
    "\n",
    "# Use verified folder names\n",
    "non_violence_folder = 'frames2nv'  # Update if the name is different\n",
    "violence_folder = 'frames1'       # Update if the name is different\n",
    "\n",
    "# Load images\n",
    "non_violence_images = os.listdir(os.path.join(image_dir, non_violence_folder))\n",
    "violence_images = os.listdir(os.path.join(image_dir, violence_folder))\n",
    "\n",
    "print(\"--------------------------------------\\n\")\n",
    "print('The length of Non Violence images is', len(non_violence_images))\n",
    "print('The length of Violence images is', len(violence_images))\n",
    "print(\"--------------------------------------\\n\")\n"
   ]
  }
 ],
 "metadata": {
  "kernelspec": {
   "display_name": "Python 3",
   "language": "python",
   "name": "python3"
  },
  "language_info": {
   "codemirror_mode": {
    "name": "ipython",
    "version": 3
   },
   "file_extension": ".py",
   "mimetype": "text/x-python",
   "name": "python",
   "nbconvert_exporter": "python",
   "pygments_lexer": "ipython3",
   "version": "3.12.6"
  }
 },
 "nbformat": 4,
 "nbformat_minor": 2
}
